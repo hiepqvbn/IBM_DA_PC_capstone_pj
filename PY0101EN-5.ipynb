{
 "cells": [
  {
   "cell_type": "markdown",
   "id": "e1f826c1-db95-415e-a553-3c0345674cb9",
   "metadata": {},
   "source": [
    "<p style=\"text-align:center\">\n",
    "    <a href=\"https://skills.network/?utm_medium=Exinfluencer&utm_source=Exinfluencer&utm_content=000026UJ&utm_term=10006555&utm_id=NA-SkillsNetwork-Channel-SkillsNetworkCoursesIBMDA0321ENSkillsNetwork928-2022-01-01\" target=\"_blank\">\n",
    "    <img src=\"https://cf-courses-data.s3.us.cloud-object-storage.appdomain.cloud/assets/logos/SN_web_lightmode.png\" width=\"300\" alt=\"Skills Network Logo\"  />\n",
    "    </a>\n",
    "</p>\n"
   ]
  },
  {
   "cell_type": "markdown",
   "id": "f133fe57-4dc1-4ace-8fa3-77aacbe97166",
   "metadata": {},
   "source": [
    "<h1> Review Of Accessing APIs</h1>\n",
    "\n",
    "Estimated time needed: **30** minutes\n",
    "\n",
    "## Objectives\n",
    "\n",
    "After completing this lab, you will be able to:\n",
    "\n",
    "*   Understand HTTP\n",
    "*   Analyze HTTP Requests\n"
   ]
  },
  {
   "cell_type": "markdown",
   "id": "5f25bbca-5e7b-400f-b948-d1dbafdf58e1",
   "metadata": {},
   "source": [
    "<h2>Table of Contents</h2>\n",
    "\n",
    "<div class=\"alert alert-block alert-info\" style=\"margin-top: 20px\">\n",
    "    <ul>\n",
    "        <li>\n",
    "            <a href=\"#Overview-of-HTTP\">Overview of HTTP </a>\n",
    "            <ul>\n",
    "                <li><a href=\"#Uniform-Resource-Locator-(URL)\">Uniform Resource Locator: URL</a></li>\n",
    "                 <li><a href=\"#Request\">Request</a></li>\n",
    "                <li><a href=\"#Response\">Response</a></li>\n",
    "            </ul>\n",
    "        </li>\n",
    "        <li>\n",
    "            <a href=\"#Requests-in-Python\">Requests in Python  </a>\n",
    "            <ul>\n",
    "                <li><a href=\"#Get-Request-with-URL-Parameters\">Get Request with URL Parameters</a></li>\n",
    "                <li><a href=\"#Post-Requests\">Post Requests </a></li>\n",
    "\n",
    "</ul>\n",
    "\n",
    "</div>\n",
    "\n",
    "<hr>\n"
   ]
  },
  {
   "cell_type": "markdown",
   "id": "1a3db759-c666-492d-8c75-587bbf2c55c7",
   "metadata": {},
   "source": [
    "## Overview of HTTP\n"
   ]
  },
  {
   "cell_type": "markdown",
   "id": "2b51e115-efef-4687-b207-a7ee9db26ffe",
   "metadata": {},
   "source": [
    "When you, the **client**, access a web page, your browser sends an **HTTP** request to the **server** where the page is hosted. The server tries to locate the desired **resource** by default \"<code>index.html</code>\". If your request is successful, the server will send the object to the client in an **HTTP response**, which includes information like the type of the **resource**, the length of the **resource**, and other information.\n",
    "\n",
    "<p>\n",
    "The figure below represents the process. The circle on the left represents the client, the circle on the right represents the web server. The table under the web server represents a list of resources stored in the web server. In  this case an <code>HTML</code> file, <code>png</code> image, and <code>txt</code> file .\n",
    "</p>\n",
    "<p>\n",
    "The <b>HTTP</b> protocol enables you to send and receive information through the web including webpages, images, and other web resources. In this lab, you will explore the Requests library for interacting with the <code>HTTP</code> protocol. \n",
    "</p\n"
   ]
  },
  {
   "cell_type": "markdown",
   "id": "91e1004c-68b0-4692-bdeb-c76ecfe50652",
   "metadata": {},
   "source": [
    "<div class=\"alert alert-block alert-info\" style=\"margin-top: 20px\">\n",
    "         <img src=\"https://cf-courses-data.s3.us.cloud-object-storage.appdomain.cloud/IBMDeveloperSkillsNetwork-PY0101EN-SkillsNetwork/labs/Module%205/images/reqest_basics.png\" width=\"750\" align=\"center\">\n",
    "\n",
    "</div>\n"
   ]
  },
  {
   "cell_type": "markdown",
   "id": "97e966a5-8ce6-4519-9e5c-e495a79d8a70",
   "metadata": {},
   "source": [
    "## Uniform Resource Locator (URL)\n"
   ]
  },
  {
   "cell_type": "markdown",
   "id": "d8b32d3b-ebc7-4581-9202-eedacf2c4dbb",
   "metadata": {},
   "source": [
    "Uniform resource locator (URL) is the common way to find resources on the web.  A URL can be broken down into three main parts:\n",
    "\n",
    "<ul>\n",
    "    <li><b>Scheme</b>: The protocol used, which in this lab will always be<code>http://</code>  </li>\n",
    "    <li><b> Internet address or  Base URL</b>: Used to locate the resource. Examples include <code>www.ibm.com</code> and  <code> www.gitlab.com </code> </li>\n",
    "    <li><b>Route</b>: Location on the web server for example: <code>/images/IDSNlogo.png</code> </li>\n",
    "</ul>\n"
   ]
  },
  {
   "cell_type": "markdown",
   "id": "01e65ed9-88df-42e5-bed7-dce1ff68fe0e",
   "metadata": {},
   "source": [
    "You may also hear the term Uniform Resource Identifier (URI). URL are actually a subset of URIs. Another popular term is endpoint, which refers to the URL of an operation provided by a web server.\n"
   ]
  },
  {
   "cell_type": "markdown",
   "id": "3df7d822-aa1b-4784-ab01-d4fb3bf1bc88",
   "metadata": {},
   "source": [
    "## Request\n"
   ]
  },
  {
   "cell_type": "markdown",
   "id": "d83ea69a-e847-455f-9353-762666179ec9",
   "metadata": {},
   "source": [
    "The process can be broken into the <b>Request</b> and <b>Response </b> process.  The request using the get method is partially illustrated below. In the start line we have the <code>GET</code> method, this is an <code>HTTP</code> method. Also the location of the resource  <code>/index.html</code> and the <code>HTTP</code> version. The Request header passes additional information with an <code>HTTP</code> request:\n"
   ]
  },
  {
   "cell_type": "markdown",
   "id": "dba23000-c12c-4e10-ba06-e25c0e57a06e",
   "metadata": {},
   "source": [
    "<div class=\"alert alert-block alert-info\" style=\"margin-top: 20px\">\n",
    "         <img src=\"https://cf-courses-data.s3.us.cloud-object-storage.appdomain.cloud/IBMDeveloperSkillsNetwork-PY0101EN-SkillsNetwork/labs/Module%205/images/reqest_messege.png\" width=\"400\" align=\"center\">\n",
    "</div>\n"
   ]
  },
  {
   "cell_type": "markdown",
   "id": "63ebd339-1172-4764-a501-662a98aae5a5",
   "metadata": {},
   "source": [
    "When an <code>HTTP</code> request is made, an <code>HTTP</code> method is sent, this tells the server what action to perform.  A list of several <code>HTTP</code> methods is shown below. We will review more examples later.\n"
   ]
  },
  {
   "cell_type": "markdown",
   "id": "25b8bf53-7b64-45a2-8c23-91658eeb7f0a",
   "metadata": {},
   "source": [
    "<div class=\"alert alert-block alert-info\" style=\"margin-top: 20px\">\n",
    "         <img src=\"https://cf-courses-data.s3.us.cloud-object-storage.appdomain.cloud/SC6-zFofaLr-ILglB1xFGA/HTTP%20image.png\" width=\"900\" align=\"center\">\n",
    "</div>\n"
   ]
  },
  {
   "cell_type": "markdown",
   "id": "b5b886dd-4e48-486a-8611-5575b2b3578e",
   "metadata": {},
   "source": [
    "## Response\n"
   ]
  },
  {
   "cell_type": "markdown",
   "id": "f075b62f-b4c6-4021-9c9f-4bbb9768d5ca",
   "metadata": {},
   "source": [
    "The figure below represents the response; the response start line contains the version number <code>HTTP/1.0</code>, a status code (200) meaning success, followed by a descriptive phrase (OK). The response header contains useful information. Finally, we have the response body containing the requested file, an <code> HTML </code> document.  It should be noted that some requests have headers.\n"
   ]
  },
  {
   "cell_type": "markdown",
   "id": "9e7fcf37-6073-4bf8-8807-c220a00bcd4a",
   "metadata": {},
   "source": [
    "<div class=\"alert alert-block alert-info\" style=\"margin-top: 20px\">\n",
    "         <img src=\"https://cf-courses-data.s3.us.cloud-object-storage.appdomain.cloud/kGeR47UyGjoLBL8R9yVH5Q/Response%20image.png\" width=\"600\" align=\"center\">\n",
    "</div> \n"
   ]
  },
  {
   "cell_type": "markdown",
   "id": "e74429aa-d296-48e4-8b6e-c95ce7a6e794",
   "metadata": {},
   "source": [
    "Some status code examples are shown in the table below, the prefix indicates the class. These are shown in yellow, with actual status codes shown in  white. Check out the following <a href=\"https://developer.mozilla.org/en-US/docs/Web/HTTP/Status?utm_medium=Exinfluencer&utm_source=Exinfluencer&utm_content=000026UJ&utm_term=10006555&utm_id=NA-SkillsNetwork-Channel-SkillsNetworkCoursesIBMDeveloperSkillsNetworkPY0101ENSkillsNetwork19487395-2021-01-01\">link </a> for more descriptions.\n"
   ]
  },
  {
   "cell_type": "markdown",
   "id": "a1e8a826-70d0-4191-a49f-389af7eb26a3",
   "metadata": {},
   "source": [
    "<div class=\"alert alert-block alert-info\" style=\"margin-top: 20px\">\n",
    "         <img src=\"https://cf-courses-data.s3.us.cloud-object-storage.appdomain.cloud/IBMDeveloperSkillsNetwork-PY0101EN-SkillsNetwork/labs/Module%205/images/status_code.png\" width=\"300\" align=\"center\">\n",
    "</div>\n"
   ]
  },
  {
   "cell_type": "markdown",
   "id": "3fd49292-4bf4-4462-a8bb-4767a520bfa1",
   "metadata": {},
   "source": [
    "### Install the required libraries\n"
   ]
  },
  {
   "cell_type": "markdown",
   "id": "1c67702e-9b30-4117-aaac-77e759d0ccf6",
   "metadata": {},
   "source": [
    "!pip install requests\n",
    "!pip install pillow"
   ]
  },
  {
   "cell_type": "markdown",
   "id": "587b9294-9094-4278-906d-0e6c4f02d670",
   "metadata": {},
   "source": [
    "## Requests in Python\n"
   ]
  },
  {
   "cell_type": "markdown",
   "id": "09091128-768c-43e3-91c0-41fad6d99942",
   "metadata": {},
   "source": [
    "Requests is a Python Library that allows you to send <code>HTTP/1.1</code> requests easily. We can import the library as follows:\n"
   ]
  },
  {
   "cell_type": "code",
   "execution_count": 1,
   "id": "37e87155-46c9-4b5d-981e-6561d51c2595",
   "metadata": {},
   "outputs": [],
   "source": [
    "import requests"
   ]
  },
  {
   "cell_type": "markdown",
   "id": "855abfb2-efed-44ec-80f7-be817f05a347",
   "metadata": {},
   "source": [
    "We will also use the following libraries:\n"
   ]
  },
  {
   "cell_type": "code",
   "execution_count": 2,
   "id": "16d0b943-eb2b-4466-a46c-56ee90b3a675",
   "metadata": {},
   "outputs": [],
   "source": [
    "import os \n",
    "from PIL import Image\n",
    "from IPython.display import IFrame"
   ]
  },
  {
   "cell_type": "markdown",
   "id": "4f6fb98b-d299-4cc1-acac-72e628cf5484",
   "metadata": {},
   "source": [
    "You can make a <code>GET</code> request via the method <code>get</code> to [www.ibm.com](http://www.ibm.com/?utm_source=Exinfluencer&utm_content=000026UJ&utm_id=NA-SkillsNetwork-Channel-SkillsNetworkCoursesIBMDeveloperSkillsNetworkPY0101ENSkillsNetwork19487395-2021-01-01&utm_medium=Exinfluencer&utm_term=10006555):\n"
   ]
  },
  {
   "cell_type": "code",
   "execution_count": 3,
   "id": "c8b12a83-5750-4309-a18a-35afaa287cff",
   "metadata": {},
   "outputs": [],
   "source": [
    "\n",
    "url='https://www.ibm.com/'\n",
    "r=requests.get(url)\n"
   ]
  },
  {
   "cell_type": "markdown",
   "id": "eb1657b6-aefd-4b73-9173-16a9dd559860",
   "metadata": {},
   "source": [
    "We have the response object <code>r</code>, this has information about the request, like the status of the request. You can view the status code using the attribute <code>status_code</code>.\n"
   ]
  },
  {
   "cell_type": "code",
   "execution_count": 4,
   "id": "89419e5d-83cf-47f1-afb7-bf178b620286",
   "metadata": {},
   "outputs": [
    {
     "data": {
      "text/plain": [
       "200"
      ]
     },
     "execution_count": 4,
     "metadata": {},
     "output_type": "execute_result"
    }
   ],
   "source": [
    "r.status_code"
   ]
  },
  {
   "cell_type": "markdown",
   "id": "16f4c3fa-38b1-4fb7-a8aa-f047f3bfaf00",
   "metadata": {},
   "source": [
    "You can view the request headers:\n"
   ]
  },
  {
   "cell_type": "code",
   "execution_count": 5,
   "id": "ece85f99-973e-4b7e-8b2f-807be024e8f7",
   "metadata": {},
   "outputs": [
    {
     "name": "stdout",
     "output_type": "stream",
     "text": [
      "{'User-Agent': 'python-requests/2.32.3', 'Accept-Encoding': 'gzip, deflate, br', 'Accept': '*/*', 'Connection': 'keep-alive', 'Cookie': '_abck=F990CDC27063254EC62C1C66FAF2CA25~-1~YAAQ5jDUF0PGi/yUAQAAjPXeBA0IZNvI2kutNdfNPro14cT4OYKldoQP+CmSjOz9Z4xqdhuxo2Jmdv8kI+WH1z5OJO1+hzrZo/YlOIj0CPv2CBtfUmEU6mh5b85etEKW1NoGFX9xZjxTUcFYyaSFscVnss4pymokDn7/l0DxtiP/8KEiHhcjUUBaxF5HyCdlrJPYSRS89VyloJdFreYoX/pr8yL6IwtGu5ff9bNYalCPcKcuFAAErZCd0c/VqvothnvFdr8CVoWthTZgSynPjBa8PKaJPlsXvlPfyl124lEIRyw5UcfHZLmC4vmDptNIyJXqqK7mlk5aoqzalAOPmTz2eQ31tHP2OpHyNO7xko9oU3+c8kmmfaVdqzxD9fcYgBz8xcjEK9+6g0FcLIGkC1QJQ9rMCUw=~-1~-1~-1; bm_sz=4295CF2FE7FB6456593644F165DCF467~YAAQ5jDUF0TGi/yUAQAAjPXeBBqUcyM1HJzdvVSmpYcwHDKsutQe9lK1STT44S4ORU5ASP1hOV11ET2/kEqgvi3UvB0WoJA4rb402BUbspAGXZR/2a12mUmlmo5B5g9V0nrbTX+qa05Hver81Gm/WZOYDedhQFqQFuxmE0XXipf09KK6OLU0x5wmbqH3L9+3DKf/+6Ot88eiZlP0G1+0U+ZVUqYiv/N3jKl1Rn88KS8ZuSgkkt8t7rsIH/54jnM0I07s3+uo0hZYXOy0tk0jRVIev1Vqy8AldVc1Ox3/nlrYDEg4byIEHlPHIvcldinDsc4PthRY8TSojj5klPQytNij7CBjywpAUPQ=~4337974~3621683'}\n"
     ]
    }
   ],
   "source": [
    "print(r.request.headers)"
   ]
  },
  {
   "cell_type": "markdown",
   "id": "73edabae-ecad-4de5-86bb-eec132d3619d",
   "metadata": {},
   "source": [
    "You can view the request body, in the following line, as there is nobody for a get request we get <code>None</code>:\n"
   ]
  },
  {
   "cell_type": "code",
   "execution_count": 6,
   "id": "fd23118b-e0bf-4f1f-a9d0-a52ce77e6711",
   "metadata": {},
   "outputs": [
    {
     "name": "stdout",
     "output_type": "stream",
     "text": [
      "request body: None\n"
     ]
    }
   ],
   "source": [
    "print(\"request body:\", r.request.body)"
   ]
  },
  {
   "cell_type": "markdown",
   "id": "b6ee84a4-2f05-4def-a657-70bad400b65e",
   "metadata": {},
   "source": [
    "You can view the <code>HTTP</code> response header using the attribute <code>headers</code>. This returns a python dictionary of <code>HTTP</code> response headers.\n"
   ]
  },
  {
   "cell_type": "code",
   "execution_count": 7,
   "id": "5e5597cb-4f5f-48e3-8411-47ac7f8e4112",
   "metadata": {},
   "outputs": [
    {
     "name": "stdout",
     "output_type": "stream",
     "text": [
      "{'Content-Security-Policy': 'upgrade-insecure-requests', 'x-frame-options': 'SAMEORIGIN', 'Last-Modified': 'Fri, 14 Feb 2025 14:02:35 GMT', 'ETag': 'W/\"2fa66-62e1aa0694d29-gzip\"', 'Accept-Ranges': 'bytes', 'Content-Type': 'text/html;charset=utf-8', 'X-Content-Type-Options': 'nosniff', 'Cache-Control': 'max-age=900', 'Expires': 'Fri, 14 Feb 2025 14:46:15 GMT', 'X-Akamai-Transformed': '9 35803 0 pmb=mTOE,1', 'Content-Encoding': 'gzip', 'Date': 'Fri, 14 Feb 2025 14:31:15 GMT', 'Content-Length': '35956', 'Connection': 'keep-alive', 'Vary': 'Accept-Encoding', 'Strict-Transport-Security': 'max-age=31536000'}\n"
     ]
    }
   ],
   "source": [
    "header=r.headers\n",
    "print(r.headers)"
   ]
  },
  {
   "cell_type": "code",
   "execution_count": 8,
   "metadata": {},
   "outputs": [
    {
     "name": "stdout",
     "output_type": "stream",
     "text": [
      "Content-Security-Policy\n",
      "x-frame-options\n",
      "Last-Modified\n",
      "ETag\n",
      "Accept-Ranges\n",
      "Content-Type\n",
      "X-Content-Type-Options\n",
      "Cache-Control\n",
      "Expires\n",
      "X-Akamai-Transformed\n",
      "Content-Encoding\n",
      "Date\n",
      "Content-Length\n",
      "Connection\n",
      "Vary\n",
      "Strict-Transport-Security\n"
     ]
    }
   ],
   "source": [
    "for key,value in header.items():\n",
    "    print(key)"
   ]
  },
  {
   "cell_type": "markdown",
   "id": "b34c2061-cd80-4ffc-99ab-924bd8223278",
   "metadata": {},
   "source": [
    "You can obtain the date the request was sent using the key <code>Date</code>.\n"
   ]
  },
  {
   "cell_type": "code",
   "execution_count": 9,
   "id": "68e2f69e-e2b2-420d-bdcf-71bf1ea7531c",
   "metadata": {},
   "outputs": [
    {
     "data": {
      "text/plain": [
       "'Fri, 14 Feb 2025 14:31:15 GMT'"
      ]
     },
     "execution_count": 9,
     "metadata": {},
     "output_type": "execute_result"
    }
   ],
   "source": [
    "header['date']"
   ]
  },
  {
   "cell_type": "markdown",
   "id": "97b49f3c-ec7a-4912-8efb-23f72d57eece",
   "metadata": {},
   "source": [
    "<code>Content-Type</code> indicates the type of data:\n"
   ]
  },
  {
   "cell_type": "code",
   "execution_count": 10,
   "id": "f8ff4c3a-65f7-43cf-974a-922985477e41",
   "metadata": {},
   "outputs": [
    {
     "data": {
      "text/plain": [
       "'text/html;charset=utf-8'"
      ]
     },
     "execution_count": 10,
     "metadata": {},
     "output_type": "execute_result"
    }
   ],
   "source": [
    "header['Content-Type']"
   ]
  },
  {
   "cell_type": "markdown",
   "id": "53509570-2885-40ef-bc60-f92d93c2d625",
   "metadata": {},
   "source": [
    "You can also check the <code>encoding</code>:\n"
   ]
  },
  {
   "cell_type": "code",
   "execution_count": 11,
   "id": "455a7cfc-4293-4db5-8e8f-cbcb605860c7",
   "metadata": {},
   "outputs": [
    {
     "data": {
      "text/plain": [
       "'utf-8'"
      ]
     },
     "execution_count": 11,
     "metadata": {},
     "output_type": "execute_result"
    }
   ],
   "source": [
    " r.encoding"
   ]
  },
  {
   "cell_type": "markdown",
   "id": "84948b8b-21ed-4941-9bd2-e705ddb44adb",
   "metadata": {},
   "source": [
    "As the <code>Content-Type</code> is <code>text/html</code> you can use the attribute <code>text</code> to display the <code>HTML</code> in the body. You can review the first 100 characters:\n"
   ]
  },
  {
   "cell_type": "code",
   "execution_count": 12,
   "id": "e041aa4f-89c8-48ea-bd58-5dacb798eaf7",
   "metadata": {},
   "outputs": [
    {
     "data": {
      "text/plain": [
       "'\\n<!DOCTYPE HTML>\\n<html lang=\"ja\">\\n<head>\\r\\n    \\r\\n    \\r\\n    \\r\\n    \\r\\n    \\r\\n    \\r\\n    \\r\\n      \\r\\n    \\r\\n  '"
      ]
     },
     "execution_count": 12,
     "metadata": {},
     "output_type": "execute_result"
    }
   ],
   "source": [
    "r.text[0:100]"
   ]
  },
  {
   "cell_type": "markdown",
   "id": "d5f4bdb0-c6f2-4007-a657-39dd7b550a48",
   "metadata": {},
   "source": [
    "You can load other types of data for non-text requests, like images. Consider the URL of the following image:\n"
   ]
  },
  {
   "cell_type": "code",
   "execution_count": 13,
   "id": "e41f2817-e79f-40b8-82f8-d79ebc512cd0",
   "metadata": {},
   "outputs": [],
   "source": [
    "# Use single quotation marks for defining string\n",
    "url='https://cf-courses-data.s3.us.cloud-object-storage.appdomain.cloud/IBMDeveloperSkillsNetwork-PY0101EN-SkillsNetwork/IDSNlogo.png'"
   ]
  },
  {
   "cell_type": "markdown",
   "id": "89b97f57-4ad0-49b7-a224-23fd64c605ca",
   "metadata": {},
   "source": [
    "You can make a get request:\n"
   ]
  },
  {
   "cell_type": "code",
   "execution_count": 14,
   "id": "49e4e69f-5688-43c3-8db2-d3d1ecec8cb1",
   "metadata": {},
   "outputs": [],
   "source": [
    "r=requests.get(url)"
   ]
  },
  {
   "cell_type": "markdown",
   "id": "f5b5b662-9cc1-4317-986d-88e719f6d911",
   "metadata": {},
   "source": [
    "You can look at the response header:\n"
   ]
  },
  {
   "cell_type": "code",
   "execution_count": 15,
   "id": "854c6e51-3d43-435d-ae46-feecee8663ce",
   "metadata": {},
   "outputs": [
    {
     "name": "stdout",
     "output_type": "stream",
     "text": [
      "{'Date': 'Fri, 14 Feb 2025 14:31:16 GMT', 'X-Clv-Request-Id': '5f165451-ec90-4c32-9dae-3ef10b494157', 'Server': 'Cleversafe', 'X-Clv-S3-Version': '2.5', 'Accept-Ranges': 'bytes', 'x-amz-request-id': '5f165451-ec90-4c32-9dae-3ef10b494157', 'ETag': '\"8bb44578fff8fdcc3d2972be9ece0164\"', 'Content-Type': 'image/png', 'Last-Modified': 'Wed, 16 Nov 2022 03:32:41 GMT', 'Content-Length': '78776'}\n"
     ]
    }
   ],
   "source": [
    "print(r.headers)"
   ]
  },
  {
   "cell_type": "markdown",
   "id": "82031372-755a-415c-9200-18dd269925fe",
   "metadata": {},
   "source": [
    "You can see the <code>'Content-Type'</code>\n"
   ]
  },
  {
   "cell_type": "code",
   "execution_count": 16,
   "id": "3b42891b-b773-4b27-ba60-b251b6f8c003",
   "metadata": {},
   "outputs": [
    {
     "data": {
      "text/plain": [
       "'image/png'"
      ]
     },
     "execution_count": 16,
     "metadata": {},
     "output_type": "execute_result"
    }
   ],
   "source": [
    "r.headers['Content-Type']"
   ]
  },
  {
   "cell_type": "markdown",
   "id": "cfb4e02d-1032-4394-91d6-1cfc132b309f",
   "metadata": {},
   "source": [
    "An image is a response object that contains the image as a <a href=\"https://docs.python.org/3/glossary.html?utm_medium=Exinfluencer&utm_source=Exinfluencer&utm_content=000026UJ&utm_term=10006555&utm_id=NA-SkillsNetwork-Channel-SkillsNetworkCoursesIBMDeveloperSkillsNetworkPY0101ENSkillsNetwork19487395-2021-01-01#term-bytes-like-object\">bytes-like object</a>. As a result, we must save it using a file object. First, you specify the <u>file path and\n",
    "name</u>\n"
   ]
  },
  {
   "cell_type": "code",
   "execution_count": 17,
   "id": "527e5548-24d3-49e2-b84a-fb98952c1e9f",
   "metadata": {},
   "outputs": [
    {
     "data": {
      "text/plain": [
       "'/home/hiepqvbn/learning/DataScience/IBM_data_analytics/DA_capstone_pj/image.png'"
      ]
     },
     "execution_count": 17,
     "metadata": {},
     "output_type": "execute_result"
    }
   ],
   "source": [
    "path=os.path.join(os.getcwd(),'image.png')\n",
    "path"
   ]
  },
  {
   "cell_type": "markdown",
   "id": "7b86e065-0bf9-431b-8fe3-4b55ecc0de98",
   "metadata": {},
   "source": [
    "You save the file, in order to access the body of the response we use the attribute <code>content</code> then save it using the <code>open</code> function and write <code>method</code>:\n"
   ]
  },
  {
   "cell_type": "code",
   "execution_count": 18,
   "id": "7b212a4b-c1f5-49bc-9e32-321cd5c3a165",
   "metadata": {},
   "outputs": [],
   "source": [
    "with open(path,'wb') as f:\n",
    "    f.write(r.content)"
   ]
  },
  {
   "cell_type": "markdown",
   "id": "b638570d-aec0-46d2-9cd4-904bf9fffd8f",
   "metadata": {},
   "source": [
    "You can view the image:\n"
   ]
  },
  {
   "cell_type": "code",
   "execution_count": 43,
   "id": "2bfef48a-127b-4142-8e47-2d2094c5947f",
   "metadata": {},
   "outputs": [
    {
     "data": {
      "image/jpeg": "[encoded data removed]",
      "image/png": "[encoded data removed]",
      "text/plain": [
       "<PIL.Image.Image image mode=RGB size=1880x656>"
      ]
     },
     "metadata": {},
     "output_type": "display_data"
    }
   ],
   "source": [
    "from matplotlib.pyplot import imshow\n",
    "import numpy as np\n",
    "\n",
    "img = Image.open(path)\n",
    "img = img.convert(\"RGB\")\n",
    "display(img)\n",
    "# imshow(np.asarray(img))"
   ]
  },
  {
   "cell_type": "markdown",
   "id": "e34a3a3e-bc2e-4214-8770-f1fbcaaf14ea",
   "metadata": {},
   "source": [
    "<h3>Question: Download a file </h3>\n"
   ]
  },
  {
   "cell_type": "markdown",
   "id": "69b76933-926c-4e88-9f62-db1edae7f2e0",
   "metadata": {},
   "source": [
    "Consider the following URL:\n"
   ]
  },
  {
   "cell_type": "markdown",
   "id": "847d9381-fd8f-4420-9522-b252ca478ffa",
   "metadata": {},
   "source": [
    "<code>URL = <https://cf-courses-data.s3.us.cloud-object-storage.appdomain.cloud/IBMDeveloperSkillsNetwork-PY0101EN-SkillsNetwork/labs/Module%205/data/Example1.txt</code>\n"
   ]
  },
  {
   "cell_type": "markdown",
   "id": "a1ce5430-67c9-4ef5-8df0-9a6d7c02984e",
   "metadata": {},
   "source": [
    "Write the commands to download the txt file in the given link.\n"
   ]
  },
  {
   "cell_type": "code",
   "execution_count": 51,
   "id": "e5459705-51a7-4328-82ba-fba18dc51171",
   "metadata": {},
   "outputs": [
    {
     "data": {
      "text/plain": [
       "{'Date': 'Fri, 14 Feb 2025 14:44:24 GMT', 'X-Clv-Request-Id': 'bca4c9ad-c5d0-47b8-8995-52aab05686ca', 'Server': 'Cleversafe', 'X-Clv-S3-Version': '2.5', 'Accept-Ranges': 'bytes', 'x-amz-request-id': 'bca4c9ad-c5d0-47b8-8995-52aab05686ca', 'Cache-Control': 'max-age=0,public', 'ETag': '\"522bc63a850f3569b8924c51131d5fe4\"', 'Content-Type': 'text/plain', 'Last-Modified': 'Wed, 12 Oct 2022 22:36:17 GMT', 'Content-Length': '45'}"
      ]
     },
     "metadata": {},
     "output_type": "display_data"
    },
    {
     "name": "stdout",
     "output_type": "stream",
     "text": [
      "This is line 1 \n",
      "This is line 2\n",
      "This is line 3\n"
     ]
    }
   ],
   "source": [
    "## Write your code here\n",
    "url = 'https://cf-courses-data.s3.us.cloud-object-storage.appdomain.cloud/IBMDeveloperSkillsNetwork-PY0101EN-SkillsNetwork/labs/Module%205/data/Example1.txt'\n",
    "r = requests.get(url)\n",
    "display(r.headers)\n",
    "print(r.text)\n",
    "path = os.path.join(os.getcwd(), 'example1.txt')\n",
    "with open(path, 'wb') as f:\n",
    "    f.write(r.content)"
   ]
  },
  {
   "cell_type": "markdown",
   "id": "fde20583-c538-41f1-a16c-8b5e4b591fe8",
   "metadata": {},
   "source": [
    "<details><summary>Click here for the solution</summary>\n",
    "\n",
    "```python\n",
    "url='https://cf-courses-data.s3.us.cloud-object-storage.appdomain.cloud/IBMDeveloperSkillsNetwork-PY0101EN-SkillsNetwork/labs/Module%205/data/Example1.txt'\n",
    "path=os.path.join(os.getcwd(),'example1.txt')\n",
    "r=requests.get(url)\n",
    "with open(path,'wb') as f:\n",
    "    f.write(r.content)\n",
    "\n",
    "```\n",
    "\n",
    "</details>\n"
   ]
  },
  {
   "cell_type": "markdown",
   "id": "293e0ac4-7abb-461f-902e-37608b971ccd",
   "metadata": {},
   "source": [
    "## Get Request with URL Parameters\n"
   ]
  },
  {
   "cell_type": "markdown",
   "id": "579252ec-b181-410c-a945-029b439c9c6e",
   "metadata": {},
   "source": [
    "You can use the <b>GET</b> method to modify the results of your query, for example, retrieving data from an API. We send a <b>GET</b> request to the  server. As before, we have the <b>Base URL</b>, in the <b>Route</b> we append <code>/get</code>, this indicates we would like to preform a <code>GET</code> request. This is demonstrated in the following table:\n"
   ]
  },
  {
   "cell_type": "markdown",
   "id": "29e6c4cc-f3df-4643-80da-36e4cd4e81bc",
   "metadata": {},
   "source": [
    "<div class=\"alert alert-block alert-info\" style=\"margin-top: 20px\">\n",
    "         <img src=\"https://cf-courses-data.s3.us.cloud-object-storage.appdomain.cloud/HvW_UIwnCUtHR7SKIJHqtQ/base-image-file.jpg\" width=\"400\" align=\"center\">\n",
    "</div>\n"
   ]
  },
  {
   "cell_type": "markdown",
   "id": "8138770e-f442-43c1-80eb-f4926fde9b3a",
   "metadata": {},
   "source": [
    "The Base URL is for <code>[http://httpbin.org/](http://httpbin.org/?utm_medium=Exinfluencer&utm_source=Exinfluencer&utm_content=000026UJ&utm_term=10006555&utm_id=NA-SkillsNetwork-Channel-SkillsNetworkCoursesIBMDeveloperSkillsNetworkPY0101ENSkillsNetwork19487395-2021-01-01)</code>. It is a simple HTTP Request and Response service. The <code>URL</code> in Python is given by:\n"
   ]
  },
  {
   "cell_type": "code",
   "execution_count": 52,
   "id": "4c44ae15-5316-4965-8474-eda74e1b41a4",
   "metadata": {},
   "outputs": [],
   "source": [
    "url_get='http://httpbin.org/get'"
   ]
  },
  {
   "cell_type": "markdown",
   "id": "6cd20b84-a555-47af-93c8-13a86b934df8",
   "metadata": {},
   "source": [
    "A <a href=\"https://en.wikipedia.org/wiki/Query_string?utm_medium=Exinfluencer&utm_source=Exinfluencer&utm_content=000026UJ&utm_term=10006555&utm_id=NA-SkillsNetwork-Channel-SkillsNetworkCoursesIBMDeveloperSkillsNetworkPY0101ENSkillsNetwork19487395-2021-01-01\">query string</a> is a part of a uniform resource locator (URL), it sends other information to the web server. The start of the query is a <code>?</code>, followed by a series of parameter and value pairs, as shown in the table below. The first parameter name is <code>name</code> and the value is <code>Joseph</code>. The second parameter name is <code>ID</code> and the Value is <code>123</code>. Each pair, parameter, and value is separated by an equals sign, <code>=</code>.\n",
    "The series of pairs is separated by the ampersand <code>&</code>.\n"
   ]
  },
  {
   "cell_type": "markdown",
   "id": "c74c7477-1027-4992-844c-210cc2b87220",
   "metadata": {},
   "source": [
    "<div class=\"alert alert-block alert-info\" style=\"margin-top: 20px\">\n",
    "         <img src=\"https://cf-courses-data.s3.us.cloud-object-storage.appdomain.cloud/IBMDeveloperSkillsNetwork-PY0101EN-SkillsNetwork/labs/Module%205/images/query_string.png\" width=\"500\" align=\"center\">\n",
    "</div>\n"
   ]
  },
  {
   "cell_type": "markdown",
   "id": "418dfe3c-1d00-46b6-8777-ed9333919c38",
   "metadata": {},
   "source": [
    "To create a Query string, add a dictionary. The keys are the parameter names and the values are the value of the Query string.\n"
   ]
  },
  {
   "cell_type": "code",
   "execution_count": 53,
   "id": "e3366421-3fc1-43d1-992b-ad1d7cac2686",
   "metadata": {},
   "outputs": [],
   "source": [
    "payload={\"name\":\"Joseph\",\"ID\":\"123\"}"
   ]
  },
  {
   "cell_type": "markdown",
   "id": "3d271a1f-a3a7-4f1a-9a17-e85cd4abfabd",
   "metadata": {},
   "source": [
    "Then passing the dictionary <code>payload</code> to the <code>params</code> parameter of the <code> get()</code> function:\n"
   ]
  },
  {
   "cell_type": "code",
   "execution_count": 54,
   "id": "6ff30a73-1bff-4e54-8046-f5abcfbec116",
   "metadata": {},
   "outputs": [],
   "source": [
    "r=requests.get(url_get,params=payload)"
   ]
  },
  {
   "cell_type": "markdown",
   "id": "b42b8451-863f-4091-8fed-239d2bde39bd",
   "metadata": {},
   "source": [
    "You can print out the <code>URL</code> and see the name and values.\n"
   ]
  },
  {
   "cell_type": "code",
   "execution_count": 55,
   "id": "94ecd671-5509-46db-8fc0-e8a31ffb5035",
   "metadata": {},
   "outputs": [
    {
     "data": {
      "text/plain": [
       "'http://httpbin.org/get?name=Joseph&ID=123'"
      ]
     },
     "execution_count": 55,
     "metadata": {},
     "output_type": "execute_result"
    }
   ],
   "source": [
    "r.url"
   ]
  },
  {
   "cell_type": "markdown",
   "id": "eb53f604-b2d0-416f-868c-a6676771e07b",
   "metadata": {},
   "source": [
    "There is no request body.\n"
   ]
  },
  {
   "cell_type": "code",
   "execution_count": 56,
   "id": "5aa78cac-9ddd-4a00-8628-ec157de3173b",
   "metadata": {},
   "outputs": [
    {
     "name": "stdout",
     "output_type": "stream",
     "text": [
      "request body: None\n"
     ]
    }
   ],
   "source": [
    "print(\"request body:\", r.request.body)"
   ]
  },
  {
   "cell_type": "markdown",
   "id": "465c100e-8309-4db6-b7af-0ca0549f95ec",
   "metadata": {},
   "source": [
    "You can print out the status code.\n"
   ]
  },
  {
   "cell_type": "code",
   "execution_count": 57,
   "id": "148d0b6f-faf9-4753-865c-365e6dd1cb81",
   "metadata": {},
   "outputs": [
    {
     "name": "stdout",
     "output_type": "stream",
     "text": [
      "200\n"
     ]
    }
   ],
   "source": [
    "print(r.status_code)"
   ]
  },
  {
   "cell_type": "markdown",
   "id": "4eebb010-f6ff-49ab-9877-73f8ee4d2570",
   "metadata": {},
   "source": [
    "You can view the response as text:\n"
   ]
  },
  {
   "cell_type": "code",
   "execution_count": 58,
   "id": "20e362c7-ba6e-4dec-8768-b06760ed498a",
   "metadata": {},
   "outputs": [
    {
     "name": "stdout",
     "output_type": "stream",
     "text": [
      "{\n",
      "  \"args\": {\n",
      "    \"ID\": \"123\", \n",
      "    \"name\": \"Joseph\"\n",
      "  }, \n",
      "  \"headers\": {\n",
      "    \"Accept\": \"*/*\", \n",
      "    \"Accept-Encoding\": \"gzip, deflate, br\", \n",
      "    \"Host\": \"httpbin.org\", \n",
      "    \"User-Agent\": \"python-requests/2.32.3\", \n",
      "    \"X-Amzn-Trace-Id\": \"Root=1-67af5719-1e41b2433206a418230da772\"\n",
      "  }, \n",
      "  \"origin\": \"119.105.90.94\", \n",
      "  \"url\": \"http://httpbin.org/get?name=Joseph&ID=123\"\n",
      "}\n",
      "\n"
     ]
    }
   ],
   "source": [
    "print(r.text)"
   ]
  },
  {
   "cell_type": "markdown",
   "id": "f61e3b37-ccbb-4667-9fbe-3c1ad84ab887",
   "metadata": {},
   "source": [
    "You can look at the <code>'Content-Type'</code>.\n"
   ]
  },
  {
   "cell_type": "code",
   "execution_count": 59,
   "id": "f05bbe68-cf11-44d0-bfe3-488de750825d",
   "metadata": {},
   "outputs": [
    {
     "data": {
      "text/plain": [
       "'application/json'"
      ]
     },
     "execution_count": 59,
     "metadata": {},
     "output_type": "execute_result"
    }
   ],
   "source": [
    "r.headers['Content-Type']"
   ]
  },
  {
   "cell_type": "markdown",
   "id": "882a2b3a-51f8-4bdd-bbc5-d42b83878335",
   "metadata": {},
   "source": [
    "As the content <code>'Content-Type'</code> is in the <code>JSON</code> format, you can use the method <code>json()</code>, it returns a Python <code>dict</code>:\n"
   ]
  },
  {
   "cell_type": "code",
   "execution_count": 60,
   "id": "0a9b97dd-4bfe-4321-a36e-1a4b5ea35152",
   "metadata": {},
   "outputs": [
    {
     "data": {
      "text/plain": [
       "{'args': {'ID': '123', 'name': 'Joseph'},\n",
       " 'headers': {'Accept': '*/*',\n",
       "  'Accept-Encoding': 'gzip, deflate, br',\n",
       "  'Host': 'httpbin.org',\n",
       "  'User-Agent': 'python-requests/2.32.3',\n",
       "  'X-Amzn-Trace-Id': 'Root=1-67af5719-1e41b2433206a418230da772'},\n",
       " 'origin': '119.105.90.94',\n",
       " 'url': 'http://httpbin.org/get?name=Joseph&ID=123'}"
      ]
     },
     "execution_count": 60,
     "metadata": {},
     "output_type": "execute_result"
    }
   ],
   "source": [
    "r.json()"
   ]
  },
  {
   "cell_type": "markdown",
   "id": "30b885e6-28dd-46d7-b971-e563bfc61cc4",
   "metadata": {},
   "source": [
    "The key <code>args</code> has the name and values:\n"
   ]
  },
  {
   "cell_type": "code",
   "execution_count": 61,
   "id": "7453f3d7-bc11-42c0-9973-cd18e4cd9c74",
   "metadata": {},
   "outputs": [
    {
     "data": {
      "text/plain": [
       "{'ID': '123', 'name': 'Joseph'}"
      ]
     },
     "execution_count": 61,
     "metadata": {},
     "output_type": "execute_result"
    }
   ],
   "source": [
    "r.json()['args']"
   ]
  },
  {
   "cell_type": "markdown",
   "id": "d0e014f3-6734-44fd-add2-cb0d28fc98ff",
   "metadata": {},
   "source": [
    "## Post Requests\n"
   ]
  },
  {
   "cell_type": "markdown",
   "id": "a7ab63bf-0e3c-48ee-94ff-108b19122827",
   "metadata": {},
   "source": [
    "Like a <code>GET</code> request, a <code>POST</code> is used to send data to a server, but the <code>POST</code> request sends the data in a request body. In order to send the Post Request in Python, in the <code>URL</code> you can change the route to <code>POST</code>:\n"
   ]
  },
  {
   "cell_type": "code",
   "execution_count": 62,
   "id": "c245750c-71da-4051-9486-3ef167a26dd6",
   "metadata": {},
   "outputs": [],
   "source": [
    "url_post='http://httpbin.org/post'"
   ]
  },
  {
   "cell_type": "markdown",
   "id": "a00af0ea-a915-4c73-b7d0-1420fcecc48e",
   "metadata": {},
   "source": [
    "This endpoint will expect data as a file or as a form. A form is convenient way to configure an HTTP request to send data to a server.\n"
   ]
  },
  {
   "cell_type": "markdown",
   "id": "32f6ca39-3d94-4f60-8880-5f8233dba525",
   "metadata": {},
   "source": [
    "To make a <code>POST</code> request we use the <code>post()</code> function, the variable <code>payload</code> is passed to the parameter <code> data </code>:\n"
   ]
  },
  {
   "cell_type": "code",
   "execution_count": 63,
   "id": "02862e68-9702-46ff-b8a7-cc40bed8c6cb",
   "metadata": {},
   "outputs": [
    {
     "name": "stdout",
     "output_type": "stream",
     "text": [
      "Response JSON: {'args': {}, 'data': '', 'files': {}, 'form': {'ID': '123', 'name': 'Joseph'}, 'headers': {'Accept': '*/*', 'Accept-Encoding': 'gzip, deflate, br', 'Content-Length': '18', 'Content-Type': 'application/x-www-form-urlencoded', 'Host': 'httpbin.org', 'User-Agent': 'python-requests/2.32.3', 'X-Amzn-Trace-Id': 'Root=1-67af577b-7d2de3d22e230beb039e9cb9'}, 'json': None, 'origin': '119.105.90.94', 'url': 'http://httpbin.org/post'}\n"
     ]
    }
   ],
   "source": [
    "try:\n",
    "    response = requests.post(url_post, data=payload)\n",
    "    if response.status_code == 200:\n",
    "        print(\"Response JSON:\", response.json()) \n",
    "    else:\n",
    "        print(f\"HTTP Error: {response.status_code} - {response.reason}\")\n",
    "except requests.exceptions.RequestException as e:\n",
    "    print(f\"An error occurred: {e}\")"
   ]
  },
  {
   "cell_type": "markdown",
   "id": "f7843c75-e30e-46c7-82e7-40630868c00d",
   "metadata": {},
   "source": [
    "Comparing the URL from the response object of the <code>GET</code> and <code>POST</code> request you see the <code>POST</code> request has no name or value pairs.\n"
   ]
  },
  {
   "cell_type": "code",
   "execution_count": 64,
   "id": "d320139b-b78c-4cd0-bbf2-09e6526921d9",
   "metadata": {},
   "outputs": [
    {
     "name": "stdout",
     "output_type": "stream",
     "text": [
      "POST request URL: http://httpbin.org/post\n",
      "GET request URL: http://httpbin.org/get?name=Joseph&ID=123\n"
     ]
    }
   ],
   "source": [
    "print(\"POST request URL:\",response.url )\n",
    "print(\"GET request URL:\",r.url)"
   ]
  },
  {
   "cell_type": "markdown",
   "id": "a95299ef-301b-4403-9325-766d89f504b7",
   "metadata": {},
   "source": [
    "You can compare the <code>POST</code> and <code>GET</code> request body, you see only the <code>POST</code> request has a body:\n"
   ]
  },
  {
   "cell_type": "code",
   "execution_count": 65,
   "id": "10a74269-e189-47a3-ab94-43568ce25e28",
   "metadata": {},
   "outputs": [
    {
     "name": "stdout",
     "output_type": "stream",
     "text": [
      "POST request body: name=Joseph&ID=123\n",
      "GET request body: None\n"
     ]
    }
   ],
   "source": [
    "print(\"POST request body:\",response.request.body)\n",
    "print(\"GET request body:\",r.request.body)"
   ]
  },
  {
   "cell_type": "markdown",
   "id": "92aeaf89-ecc8-432d-815c-af2e1c3e5e70",
   "metadata": {},
   "source": [
    "You can view the form as well:\n"
   ]
  },
  {
   "cell_type": "code",
   "execution_count": 66,
   "id": "a9e5b01e-be63-444d-b18d-c8aad1c81082",
   "metadata": {},
   "outputs": [
    {
     "data": {
      "text/plain": [
       "{'ID': '123', 'name': 'Joseph'}"
      ]
     },
     "execution_count": 66,
     "metadata": {},
     "output_type": "execute_result"
    }
   ],
   "source": [
    "response.json()['form']"
   ]
  },
  {
   "cell_type": "markdown",
   "id": "25375736-0613-4229-8b05-eb4a46d96ee9",
   "metadata": {},
   "source": [
    "There is a lot more you can do. Check out <a href=\"https://requests.readthedocs.io/en/master/?utm_medium=Exinfluencer&utm_source=Exinfluencer&utm_content=000026UJ&utm_term=10006555&utm_id=NA-SkillsNetwork-Channel-SkillsNetworkCoursesIBMDeveloperSkillsNetworkPY0101ENSkillsNetwork19487395-2021-01-01\">Requests </a> for more.\n"
   ]
  },
  {
   "cell_type": "markdown",
   "id": "eff33817-df65-41dd-8e64-0f61b6febeee",
   "metadata": {},
   "source": [
    "<hr>\n",
    "\n",
    "<p>Congratulations, you have completed your hands-on lab on Review Of Accessing APIs.\n",
    "<hr>\n"
   ]
  },
  {
   "cell_type": "markdown",
   "id": "bf2314fb-0508-414f-b935-51bdf3503ff7",
   "metadata": {},
   "source": [
    "## Authors\n",
    "\n",
    "<p><a href=\"https://www.linkedin.com/in/joseph-s-50398b136/?utm_medium=Exinfluencer&utm_source=Exinfluencer&utm_content=000026UJ&utm_term=10006555&utm_id=NA-SkillsNetwork-Channel-SkillsNetworkCoursesIBMDeveloperSkillsNetworkPY0101ENSkillsNetwork19487395-2021-01-01\" target=\"_blank\">Joseph Santarcangelo</a> \n"
   ]
  },
  {
   "cell_type": "markdown",
   "id": "7a01fb21-c429-481e-afce-81e15e4cecc8",
   "metadata": {},
   "source": [
    "### Other Contributors\n",
    "\n",
    "<a href=\"https://www.linkedin.com/in/jiahui-mavis-zhou-a4537814a?utm_medium=Exinfluencer&utm_source=Exinfluencer&utm_content=000026UJ&utm_term=10006555&utm_id=NA-SkillsNetwork-Channel-SkillsNetworkCoursesIBMDeveloperSkillsNetworkPY0101ENSkillsNetwork19487395-2021-01-01\">Mavis Zhou</a>\n"
   ]
  },
  {
   "cell_type": "markdown",
   "id": "54986d48-4f0d-4cc1-a485-70a01db7d9c7",
   "metadata": {},
   "source": [
    "<!--\n",
    "## Change Log\n",
    "\n",
    "| Date (YYYY-MM-DD) | Version | Changed By | Change Description           |\n",
    "| ----------------- | ------- | ---------- | ---------------------------- |\n",
    "| 2024-10-04        | 2.5     | Madhusudan | ID reviewed                  |\n",
    "| 2024-05-23        | 2.5     | Madhusudan | ID reviewed                  |\n",
    "| 2023-11-02        | 2.4     | Abhishek Gagneja | Updated instructions   |\n",
    "| 2023-06-07        | 2.3     |Akansha Yadav| Spell Check                 |\n",
    "| 2021-12-20        | 2.1     | Malika     | Updated the links            |\n",
    "| 2020-09-02        | 2.0     | Simran     | Template updates to the file |\n",
    "|                   |         |            |                              |\n",
    "|                   |         |            |                              |\n",
    "\n",
    "## <h3 align=\"center\"> © IBM Corporation. All rights reserved. <h3/>\n",
    "--!>\n"
   ]
  },
  {
   "cell_type": "markdown",
   "id": "75adf11e-161d-45c5-8d6f-582ceea81d46",
   "metadata": {},
   "source": [
    "Copyright © IBM Corporation. All rights reserved.\n"
   ]
  }
 ],
 "metadata": {
  "kernelspec": {
   "display_name": "Python 3",
   "language": "python",
   "name": "python3"
  },
  "language_info": {
   "codemirror_mode": {
    "name": "ipython",
    "version": 3
   },
   "file_extension": ".py",
   "mimetype": "text/x-python",
   "name": "python",
   "nbconvert_exporter": "python",
   "pygments_lexer": "ipython3",
   "version": "3.10.12"
  },
  "prev_pub_hash": "0c1a46cf8d451f159a440fdd4450db050a7cf92a1c796599e20d3ccdfda9b07a"
 },
 "nbformat": 4,
 "nbformat_minor": 4
}
